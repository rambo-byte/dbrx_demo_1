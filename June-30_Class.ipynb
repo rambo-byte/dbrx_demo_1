{
 "cells": [
  {
   "cell_type": "markdown",
   "metadata": {
    "application/vnd.databricks.v1+cell": {
     "cellMetadata": {},
     "inputWidgets": {},
     "nuid": "ce827aba-a5d4-4a00-a0a1-50c3d25d4682",
     "showTitle": false,
     "tableResultSettingsMap": {},
     "title": ""
    }
   },
   "source": [
    "What is a data lake house?\n",
    "\n",
    "Data lake - will store any kind of data - structured/unstructured data but can't do acid transactions\n",
    "Data ware house - we can store structured data and can run acid transactions on data (can't store unsctuctured data)\n",
    "data lake --> ETL --> data ware house (data marts) which will be used by business intelligent teams\n",
    "Data lake house - can provide both advantages of data ware house and data lake that is why it is called data lake house\n",
    "data ware house + data lake = data lake house / delta lake\n",
    "\n",
    "Advantages of data lake house:\n",
    "-> handles all kinds of data (structured/unstructured)\n",
    "-> supports acid transactions\n",
    "-> uses open file format\n",
    "-> simple archtechure\n",
    "-> BI integration\n"
   ]
  },
  {
   "cell_type": "markdown",
   "metadata": {
    "application/vnd.databricks.v1+cell": {
     "cellMetadata": {},
     "inputWidgets": {},
     "nuid": "9ddc125f-8804-4be0-887d-92c2bb474a06",
     "showTitle": false,
     "tableResultSettingsMap": {},
     "title": ""
    }
   },
   "source": [
    "Why Medallion architecture?\n",
    "\n",
    "-> data lineage\n",
    "-> data governance\n",
    "-> "
   ]
  },
  {
   "cell_type": "markdown",
   "metadata": {
    "application/vnd.databricks.v1+cell": {
     "cellMetadata": {},
     "inputWidgets": {},
     "nuid": "6eb9a03f-fa44-4ff3-9297-5e78527dc053",
     "showTitle": false,
     "tableResultSettingsMap": {},
     "title": ""
    }
   },
   "source": [
    "Delta Lake ->\n",
    "Unity Catalog ->\n",
    "Schema -> \n",
    "Metastore ->\n",
    "Operation in Delta ->\n"
   ]
  },
  {
   "cell_type": "code",
   "execution_count": 0,
   "metadata": {
    "application/vnd.databricks.v1+cell": {
     "cellMetadata": {
      "byteLimit": 2048000,
      "implicitDf": true,
      "rowLimit": 10000
     },
     "inputWidgets": {},
     "nuid": "4d94bec6-9592-42fc-a41c-c658fad7c907",
     "showTitle": false,
     "tableResultSettingsMap": {},
     "title": ""
    }
   },
   "outputs": [],
   "source": [
    "%sql\n",
    "SELECT * FROM `class01`.`demo_class`.`empdetails`;\n"
   ]
  },
  {
   "cell_type": "code",
   "execution_count": 0,
   "metadata": {
    "application/vnd.databricks.v1+cell": {
     "cellMetadata": {
      "byteLimit": 2048000,
      "rowLimit": 10000
     },
     "inputWidgets": {},
     "nuid": "7e7031d5-c20a-44c1-b72c-5c30f156a408",
     "showTitle": false,
     "tableResultSettingsMap": {},
     "title": ""
    }
   },
   "outputs": [],
   "source": [
    "emp_details = spark.sql(f\"\"\"\n",
    "                        select * from class01.demo_class.empdetails;\n",
    "                        \"\"\")\n",
    "display(emp_details)"
   ]
  },
  {
   "cell_type": "code",
   "execution_count": 0,
   "metadata": {
    "application/vnd.databricks.v1+cell": {
     "cellMetadata": {},
     "inputWidgets": {},
     "nuid": "b0256313-9e51-4463-ae4c-75fccd421ac1",
     "showTitle": false,
     "tableResultSettingsMap": {},
     "title": ""
    }
   },
   "outputs": [],
   "source": []
  }
 ],
 "metadata": {
  "application/vnd.databricks.v1+notebook": {
   "computePreferences": null,
   "dashboards": [],
   "environmentMetadata": {
    "base_environment": "",
    "environment_version": "2"
   },
   "inputWidgetPreferences": null,
   "language": "python",
   "notebookMetadata": {
    "mostRecentlyExecutedCommandWithImplicitDF": {
     "commandId": 8384885779743109,
     "dataframes": [
      "_sqldf"
     ]
    },
    "pythonIndentUnit": 4
   },
   "notebookName": "June-30_Class",
   "widgets": {}
  },
  "language_info": {
   "name": "python"
  }
 },
 "nbformat": 4,
 "nbformat_minor": 0
}
